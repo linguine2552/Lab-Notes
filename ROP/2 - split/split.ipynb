{
 "cells": [
  {
   "cell_type": "code",
   "execution_count": null,
   "id": "1b6d4967-b1da-4761-a3cd-f0d6438c46e7",
   "metadata": {},
   "outputs": [],
   "source": [
    "# Challenge 2 - ret2win\n",
    "\n",
    "Objective: The elements that allowed you to complete ret2win are still present, they've just been split apart.\n",
    "Find them and recombine them using a short ROP chain."
   ]
  }
 ],
 "metadata": {
  "kernelspec": {
   "display_name": "Python 3 (ipykernel)",
   "language": "python",
   "name": "python3"
  },
  "language_info": {
   "codemirror_mode": {
    "name": "ipython",
    "version": 3
   },
   "file_extension": ".py",
   "mimetype": "text/x-python",
   "name": "python",
   "nbconvert_exporter": "python",
   "pygments_lexer": "ipython3",
   "version": "3.8.5"
  }
 },
 "nbformat": 4,
 "nbformat_minor": 5
}
