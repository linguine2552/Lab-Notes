{
 "cells": [
  {
   "cell_type": "markdown",
   "id": "b8528f23-151e-48a2-869f-0b7852727afa",
   "metadata": {
    "tags": []
   },
   "source": [
    "# Challenge 1 - ret2win\n",
    "hosted at the ROP Emporium\n",
    "\n"
   ]
  },
  {
   "cell_type": "markdown",
   "id": "a9b6c1ae-b228-4c33-b2c4-65090637a51e",
   "metadata": {
    "jp-MarkdownHeadingCollapsed": true,
    "tags": []
   },
   "source": [
    "## ROP Emporium\n",
    "<h4>This is a great place to learn about Return Oriented Programming, one of the sexier buffer overflow exploitation techniques used today. This is a CTF site where you attempt to exploit a binary using ROP in order to read out flag.txt </h4>\n",
    "\n",
    "<a href=\"https://ropemporium.com/\" target=\"_blank\"><img src=\"https://1.bp.blogspot.com/-5Py6qw3W7mk/XxubymSzn6I/AAAAAAAAAok/5NjfpufdrJ0nHYcmvS8B9QHJMPw-DaS4ACLcBGAsYHQ/s1372/Screen%2BShot%2B2020-07-24%2Bat%2B10.40.44%2BPM.png\" \n",
    "alt=\"FOOL, THE IMAGE IS GONE\" width=\"240\" height=\"180\" border=\"10\" /></a>\n",
    "\n",
    "<h4>ROP Emporium offers their binaries in 4 architectural flavors, to start out I'll be using x86_64 (very basic I know) but I plan to run through the gauntlet again at least one more time to learn about ARM Pointer Auth Codes.</h4>\n",
    "\n"
   ]
  },
  {
   "cell_type": "markdown",
   "id": "95513de0-a391-4ea3-b15d-c30b1b696ff0",
   "metadata": {
    "jp-MarkdownHeadingCollapsed": true,
    "tags": []
   },
   "source": [
    "# \n",
    "<h1> Objective: Locate a method that you want to call within the binary. Call it by overwriting a saved return address on the stack.</h1>\n",
    "\n"
   ]
  },
  {
   "cell_type": "markdown",
   "id": "1ba07029-9917-4bb3-9420-163bf84f09c1",
   "metadata": {},
   "source": [
    "\n",
    "<h3>Starting off with a little file inspection:</h3>\n",
    "\n"
   ]
  },
  {
   "cell_type": "markdown",
   "id": "a84b6320-8b35-49f2-8024-e58d3585d8cb",
   "metadata": {},
   "source": [
    "# \n",
    " \n",
    "\n"
   ]
  },
  {
   "cell_type": "code",
   "execution_count": 92,
   "id": "067170cf-2d86-4efc-a381-cf349a1fdd0a",
   "metadata": {},
   "outputs": [
    {
     "name": "stdout",
     "output_type": "stream",
     "text": [
      "ret2win: ELF 64-bit LSB executable, x86-64, version 1 (SYSV), dynamically linked, interpreter /lib64/ld-linux-x86-64.so.2, for GNU/Linux 3.2.0, BuildID[sha1]=19abc0b3bb228157af55b8e16af7316d54ab0597, not stripped\n"
     ]
    },
    {
     "data": {
      "text/plain": [
       "0"
      ]
     },
     "execution_count": 92,
     "metadata": {},
     "output_type": "execute_result"
    }
   ],
   "source": [
    "import os\n",
    "cmd = \"file ret2win\"\n",
    "os.system(cmd)"
   ]
  },
  {
   "cell_type": "markdown",
   "id": "794c6cc3-d7b9-43be-bcab-0a722427f037",
   "metadata": {},
   "source": [
    "# \n",
    " \n",
    "\n"
   ]
  },
  {
   "cell_type": "markdown",
   "id": "118abf8d-ec9b-4adb-bee8-e641c06a2526",
   "metadata": {},
   "source": [
    "<h3>\n",
    "So were dealing with a 64bit ELF (Executable and Linkable Format) in little endian (LSB stands for Least Significant Byte) we can also check this manually by looking at the sixth byte in the ELF header using a debugger (it's either 1 or 2 if little or big endian).\n",
    "</h3>\n"
   ]
  },
  {
   "cell_type": "markdown",
   "id": "0fad5032-dd2d-42e3-9d58-38cc861ce0d8",
   "metadata": {},
   "source": [
    "# \n",
    " \n",
    "\n"
   ]
  },
  {
   "cell_type": "code",
   "execution_count": 1,
   "id": "ac84bbf7-797e-4128-87bb-d36c8d6ee486",
   "metadata": {},
   "outputs": [
    {
     "name": "stderr",
     "output_type": "stream",
     "text": [
      "---------------------------------------------------------------------------\n",
      "0000: 7F 45 4C 46 02 01 01 00 00 00 00 00 00 00 00 00 02  .ELF.............\n",
      "0011: 00 3E 00 01 00 00 00 B0 05 40 00 00 00 00 00 40 00  .>.......@.....@.\n",
      "0022: 00 00 00 00 00 00 58 1A 00 00 00 00 00 00 00 00 00  ......X..........\n",
      "0033: 00 40 00 38 00 09 00 40 00 1D 00 1C 00 06 00 00 00  .@.8...@.........\n",
      "0044: 04 00 00 00 40 00 00 00 00 00 00 00 40 00 40 00 00  ....@.......@.@..\n",
      "0055: 00 00 00 40 00 40 00 00 00 00 00 F8 01 00 00 00 00  ...@.@...........\n",
      "0066: 00 00 F8 01 00 00 00 00 00 00 08 00 00 00 00 00 00  .................\n",
      "0077: 00 03 00 00 00 04 00 00 00 38 02 00 00 00 00 00 00  .........8.......\n",
      "0088: 38 02 40 00 00 00 00 00 38 02 40 00 00 00 00 00 1C  8.@.....8.@......\n",
      "0099: 00 00 00 00 00 00 00 1C 00 00 00 00 00 00 00 01 00  .................\n",
      "---------------------------------------------------------------------------\n"
     ]
    },
    {
     "data": {
      "text/plain": [
       "0"
      ]
     },
     "execution_count": 1,
     "metadata": {},
     "output_type": "execute_result"
    }
   ],
   "source": [
    "import os\n",
    "cmd = \"emit ret2win | peek\"\n",
    "os.system(cmd)"
   ]
  },
  {
   "cell_type": "markdown",
   "id": "2d5a03ce-ce08-40f4-9bc7-72f2859f0c7d",
   "metadata": {},
   "source": [
    "# \n",
    " \n",
    "\n"
   ]
  },
  {
   "cell_type": "markdown",
   "id": "5bb3e599-d16c-4d08-8f46-e872c8f16847",
   "metadata": {},
   "source": [
    "\n",
    "<h3>\n",
    "The file is not stripped meaning the author of the exe compiled without stripping their function names, so the next step would be to check all the named functions in the binary using radare2 in hopes of finding some leads.\n",
    "</h3>\n",
    "\n"
   ]
  },
  {
   "cell_type": "markdown",
   "id": "52e6c8c8-c7af-49b9-96f5-5b8560c7412d",
   "metadata": {},
   "source": [
    "# \n",
    " \n",
    "\n"
   ]
  },
  {
   "cell_type": "code",
   "execution_count": 53,
   "id": "dacaf4b6-e120-4ce7-9b56-dd179e0935d6",
   "metadata": {},
   "outputs": [
    {
     "name": "stdout",
     "output_type": "stream",
     "text": [
      "0x004005b0    1 42           entry0\n",
      "0x004005f0    4 42   -> 37   sym.deregister_tm_clones\n",
      "0x00400620    4 58   -> 55   sym.register_tm_clones\n",
      "0x00400660    3 34   -> 29   entry.fini0\n",
      "0x00400690    1 7            entry.init0\n",
      "0x004006e8    1 110          sym.pwnme\n",
      "0x00400580    1 6            sym.imp.memset\n",
      "0x00400550    1 6            sym.imp.puts\n",
      "0x00400570    1 6            sym.imp.printf\n",
      "0x00400590    1 6            sym.imp.read\n",
      "0x00400756    1 27           sym.ret2win\n",
      "0x00400560    1 6            sym.imp.system\n",
      "0x004007f0    1 2            sym.__libc_csu_fini\n",
      "0x004007f4    1 9            sym._fini\n",
      "0x00400780    4 101          sym.__libc_csu_init\n",
      "0x004005e0    1 2            sym._dl_relocate_static_pie\n",
      "0x00400697    1 81           main\n",
      "0x004005a0    1 6            sym.imp.setvbuf\n",
      "0x00400528    3 23           sym._init\n",
      " -- Jingle sploits, jingle sploits, ropchain all the way.\n",
      "\u001b[38;2;193;156;0m[0x004005b0]>\u001b[0m [0m \u0000"
     ]
    },
    {
     "name": "stderr",
     "output_type": "stream",
     "text": [
      "\u001b[32m[x]\u001b[0m Analyze all flags starting with sym. and entry0 (aa)\n",
      "\u001b[32m[x]\u001b[0m Analyze function calls (aac)\n",
      "\u001b[32m[x]\u001b[0m Analyze len bytes of instructions for references (aar)\n",
      "\u001b[32m[x]\u001b[0m Check for objc references\n",
      "\u001b[32m[x]\u001b[0m Check for vtables\n",
      "\u001b[32m[x]\u001b[0m Type matching analysis for all functions (aaft)\n",
      "\u001b[32m[x]\u001b[0m Propagate noreturn information\n",
      "\u001b[32m[x]\u001b[0m Use -AA or aaaa to perform additional experimental analysis.\n",
      "\u001b[32m[x]\u001b[0m Finding function preludes\n",
      "\u001b[32m[x]\u001b[0m Enable constraint types analysis for variables\n",
      "\u001b[?1001r\u001b[?1000l"
     ]
    },
    {
     "data": {
      "text/plain": [
       "0"
      ]
     },
     "execution_count": 53,
     "metadata": {},
     "output_type": "execute_result"
    }
   ],
   "source": [
    "import os\n",
    "cmd = \"r2 -AAA ret2win -c afl\"\n",
    "os.system(cmd)"
   ]
  },
  {
   "cell_type": "markdown",
   "id": "0d1a4942-ba21-4abc-b43e-1efc736e2429",
   "metadata": {},
   "source": [
    "# \n",
    " \n",
    "\n"
   ]
  },
  {
   "cell_type": "markdown",
   "id": "f8ca6d97-dbea-46fb-83de-b611f864ae9e",
   "metadata": {},
   "source": [
    "<h3>\n",
    "I'm not going to explain the command arguments, everything is pretty cut and dry (plus the man page exists). What it spits out is a memory address of our location (at entry0 which corresponds to the _start function) within the binary and a list of functions for us to analyze.\n",
    "</h3>\n",
    "\n",
    "<h3>\n",
    "We can see that there are indeed a few interesting functions: <strong>pwnme, ret2win,</strong> and <strong> main</strong></h3> \n",
    "\n",
    "<h3>\n",
    "Main is the most logical place to start so lets use the 'seek' command in radare to jump into main and the 'pdf' command to print out the disassembled function.\n",
    "    </h3>"
   ]
  },
  {
   "cell_type": "markdown",
   "id": "a992fd25-ffce-4d57-8651-c6f132d4c7f5",
   "metadata": {},
   "source": [
    "# \n",
    " \n",
    "\n"
   ]
  },
  {
   "cell_type": "code",
   "execution_count": 89,
   "id": "01fd3458-8083-4944-bbe8-9feb6aba8d02",
   "metadata": {},
   "outputs": [
    {
     "name": "stdout",
     "output_type": "stream",
     "text": [
      "            \u001b[38;2;197;15;31m\u001b[38;2;197;15;31m; DATA XREF from entry0 @ \u001b[38;2;197;15;31m0x4005cd\u001b[38;2;197;15;31m\u001b[0m\n",
      "\u001b[38;2;58;150;221m┌\u001b[0m 81: int \u001b[38;2;197;15;31mmain\u001b[0m (int argc, char **argv, char **envp);\n",
      "\u001b[38;2;58;150;221m│\u001b[0m           \u001b[38;2;19;161;14m0x00400697\u001b[0m      \u001b[38;2;193;156;0m55\u001b[0m             \u001b[38;2;136;23;152mpush\u001b[38;2;58;150;221m rbp\u001b[0m\u001b[0m\u001b[0m\n",
      "\u001b[38;2;58;150;221m│\u001b[0m           \u001b[38;2;19;161;14m0x00400698\u001b[0m      \u001b[38;2;193;156;0m48\u001b[38;2;204;204;204m89\u001b[38;2;204;204;204me5\u001b[0m         \u001b[38;2;204;204;204mmov\u001b[38;2;58;150;221m rbp\u001b[0m,\u001b[38;2;58;150;221m\u001b[38;2;58;150;221m rsp\u001b[0m\u001b[0m\u001b[0m\n",
      "\u001b[38;2;58;150;221m│\u001b[0m           \u001b[38;2;19;161;14m0x0040069b\u001b[0m      \u001b[38;2;193;156;0m48\u001b[38;2;204;204;204m8b\u001b[38;2;204;204;204m05\u001b[38;2;204;204;204mb6\u001b[38;2;204;204;204m09\u001b[38;2;193;156;0m20\u001b[38;2;204;204;204m.\u001b[0m  \u001b[38;2;204;204;204mmov\u001b[38;2;58;150;221m rax\u001b[0m,\u001b[38;2;58;150;221m qword\u001b[38;2;58;150;221m \u001b[0m[\u001b[38;2;58;150;221m\u001b[38;2;58;150;221mobj.stdout\u001b[0m]\u001b[38;2;58;150;221m\u001b[0m\u001b[0m\u001b[38;2;197;15;31m ; rdi\n",
      "\u001b[38;2;58;150;221m│\u001b[0m           \u001b[38;2;197;15;31m                                                           ; [0x601058:8]=0\u001b[0m\n",
      "\u001b[38;2;58;150;221m│\u001b[0m           \u001b[38;2;19;161;14m0x004006a2\u001b[0m      \u001b[38;2;204;204;204mb9\u001b[38;2;19;161;14m00\u001b[38;2;19;161;14m00\u001b[38;2;19;161;14m00\u001b[38;2;19;161;14m00\u001b[0m     \u001b[38;2;204;204;204mmov\u001b[38;2;58;150;221m ecx\u001b[0m,\u001b[38;2;58;150;221m\u001b[38;2;58;150;221m \u001b[38;2;58;150;221m0\u001b[0m\u001b[0m\u001b[0m                  \u001b[38;2;0;55;218m; size_t size\u001b[0m\n",
      "\u001b[38;2;58;150;221m│\u001b[0m           \u001b[38;2;19;161;14m0x004006a7\u001b[0m      \u001b[38;2;204;204;204mba\u001b[38;2;204;204;204m02\u001b[38;2;19;161;14m00\u001b[38;2;19;161;14m00\u001b[38;2;19;161;14m00\u001b[0m     \u001b[38;2;204;204;204mmov\u001b[38;2;58;150;221m edx\u001b[0m,\u001b[38;2;58;150;221m\u001b[38;2;58;150;221m \u001b[38;2;193;156;0m2\u001b[0m\u001b[0m\u001b[0m                  \u001b[38;2;0;55;218m; int mode\u001b[0m\n",
      "\u001b[38;2;58;150;221m│\u001b[0m           \u001b[38;2;19;161;14m0x004006ac\u001b[0m      \u001b[38;2;204;204;204mbe\u001b[38;2;19;161;14m00\u001b[38;2;19;161;14m00\u001b[38;2;19;161;14m00\u001b[38;2;19;161;14m00\u001b[0m     \u001b[38;2;204;204;204mmov\u001b[38;2;58;150;221m esi\u001b[0m,\u001b[38;2;58;150;221m\u001b[38;2;58;150;221m \u001b[38;2;58;150;221m0\u001b[0m\u001b[0m\u001b[0m                  \u001b[38;2;0;55;218m; char *buf\u001b[0m\n",
      "\u001b[38;2;58;150;221m│\u001b[0m           \u001b[38;2;19;161;14m0x004006b1\u001b[0m      \u001b[38;2;193;156;0m48\u001b[38;2;204;204;204m89\u001b[38;2;204;204;204mc7\u001b[0m         \u001b[38;2;204;204;204mmov\u001b[38;2;58;150;221m rdi\u001b[0m,\u001b[38;2;58;150;221m\u001b[38;2;58;150;221m rax\u001b[0m\u001b[0m\u001b[0m                \u001b[38;2;0;55;218m; FILE*stream\u001b[0m\n",
      "\u001b[38;2;58;150;221m│\u001b[0m           \u001b[38;2;19;161;14m0x004006b4\u001b[0m      \u001b[38;2;204;204;204me8\u001b[38;2;204;204;204me7\u001b[38;2;204;204;204mfe\u001b[38;2;197;15;31mff\u001b[38;2;197;15;31mff\u001b[0m     \u001b[1;38;2;22;198;12mcall sym.imp.setvbuf\u001b[0m\u001b[0m\u001b[38;2;197;15;31m        ; int setvbuf(FILE*stream, char *buf, int mode, size_t size)\u001b[0m\n",
      "\u001b[38;2;58;150;221m│\u001b[0m           \u001b[38;2;19;161;14m0x004006b9\u001b[0m      \u001b[38;2;204;204;204mbf\u001b[38;2;204;204;204m08\u001b[38;2;204;204;204m08\u001b[38;2;193;156;0m40\u001b[38;2;19;161;14m00\u001b[0m     \u001b[38;2;204;204;204mmov\u001b[38;2;58;150;221m edi\u001b[0m,\u001b[38;2;58;150;221m\u001b[38;2;58;150;221m \u001b[38;2;58;150;221mstr.ret2win_by_ROP_Emporium\u001b[0m\u001b[0m\u001b[38;2;197;15;31m ; 0x400808\u001b[38;2;197;15;31m ; \"ret2win by ROP Emporium\"\u001b[0m \u001b[38;2;0;55;218m; const char *s\u001b[0m\n",
      "\u001b[38;2;58;150;221m│\u001b[0m           \u001b[38;2;19;161;14m0x004006be\u001b[0m      \u001b[38;2;204;204;204me8\u001b[38;2;204;204;204m8d\u001b[38;2;204;204;204mfe\u001b[38;2;197;15;31mff\u001b[38;2;197;15;31mff\u001b[0m     \u001b[1;38;2;22;198;12mcall sym.imp.puts\u001b[0m\u001b[0m\u001b[38;2;197;15;31m           ; int puts(const char *s)\u001b[0m\n",
      "\u001b[38;2;58;150;221m│\u001b[0m           \u001b[38;2;19;161;14m0x004006c3\u001b[0m      \u001b[38;2;204;204;204mbf\u001b[38;2;193;156;0m20\u001b[38;2;204;204;204m08\u001b[38;2;193;156;0m40\u001b[38;2;19;161;14m00\u001b[0m     \u001b[38;2;204;204;204mmov\u001b[38;2;58;150;221m edi\u001b[0m,\u001b[38;2;58;150;221m\u001b[38;2;58;150;221m \u001b[38;2;58;150;221mstr.x86_64\u001b[0m\u001b[0m\u001b[38;2;197;15;31m         ; 0x400820\u001b[38;2;197;15;31m ; \"x86_64\\n\"\u001b[0m \u001b[38;2;0;55;218m; const char *s\u001b[0m\n",
      "\u001b[38;2;58;150;221m│\u001b[0m           \u001b[38;2;19;161;14m0x004006c8\u001b[0m      \u001b[38;2;204;204;204me8\u001b[38;2;204;204;204m83\u001b[38;2;204;204;204mfe\u001b[38;2;197;15;31mff\u001b[38;2;197;15;31mff\u001b[0m     \u001b[1;38;2;22;198;12mcall sym.imp.puts\u001b[0m\u001b[0m\u001b[38;2;197;15;31m           ; int puts(const char *s)\u001b[0m\n",
      "\u001b[38;2;58;150;221m│\u001b[0m           \u001b[38;2;19;161;14m0x004006cd\u001b[0m      \u001b[38;2;204;204;204mb8\u001b[38;2;19;161;14m00\u001b[38;2;19;161;14m00\u001b[38;2;19;161;14m00\u001b[38;2;19;161;14m00\u001b[0m     \u001b[38;2;204;204;204mmov\u001b[38;2;58;150;221m eax\u001b[0m,\u001b[38;2;58;150;221m\u001b[38;2;58;150;221m \u001b[38;2;58;150;221m0\u001b[0m\u001b[0m\u001b[0m\n",
      "\u001b[38;2;58;150;221m│\u001b[0m           \u001b[38;2;19;161;14m0x004006d2\u001b[0m      \u001b[38;2;204;204;204me8\u001b[38;2;204;204;204m11\u001b[38;2;19;161;14m00\u001b[38;2;19;161;14m00\u001b[38;2;19;161;14m00\u001b[0m     \u001b[1;38;2;22;198;12mcall sym.pwnme\u001b[0m\u001b[0m\n",
      "\u001b[38;2;58;150;221m│\u001b[0m           \u001b[38;2;19;161;14m0x004006d7\u001b[0m      \u001b[38;2;204;204;204mbf\u001b[38;2;193;156;0m28\u001b[38;2;204;204;204m08\u001b[38;2;193;156;0m40\u001b[38;2;19;161;14m00\u001b[0m     \u001b[38;2;204;204;204mmov\u001b[38;2;58;150;221m edi\u001b[0m,\u001b[38;2;58;150;221m\u001b[38;2;58;150;221m \u001b[38;2;58;150;221mstr.Exiting\u001b[0m\u001b[0m\u001b[38;2;197;15;31m        ; 0x400828\u001b[38;2;197;15;31m ; \"\\nExiting\"\u001b[0m \u001b[38;2;0;55;218m; const char *s\u001b[0m\n",
      "\u001b[38;2;58;150;221m│\u001b[0m           \u001b[38;2;19;161;14m0x004006dc\u001b[0m      \u001b[38;2;204;204;204me8\u001b[38;2;193;156;0m6f\u001b[38;2;204;204;204mfe\u001b[38;2;197;15;31mff\u001b[38;2;197;15;31mff\u001b[0m     \u001b[1;38;2;22;198;12mcall sym.imp.puts\u001b[0m\u001b[0m\u001b[38;2;197;15;31m           ; int puts(const char *s)\u001b[0m\n",
      "\u001b[38;2;58;150;221m│\u001b[0m           \u001b[38;2;19;161;14m0x004006e1\u001b[0m      \u001b[38;2;204;204;204mb8\u001b[38;2;19;161;14m00\u001b[38;2;19;161;14m00\u001b[38;2;19;161;14m00\u001b[38;2;19;161;14m00\u001b[0m     \u001b[38;2;204;204;204mmov\u001b[38;2;58;150;221m eax\u001b[0m,\u001b[38;2;58;150;221m\u001b[38;2;58;150;221m \u001b[38;2;58;150;221m0\u001b[0m\u001b[0m\u001b[0m\n",
      "\u001b[38;2;58;150;221m│\u001b[0m           \u001b[38;2;19;161;14m0x004006e6\u001b[0m      \u001b[38;2;193;156;0m5d\u001b[0m             \u001b[1;38;2;180;0;158mpop\u001b[38;2;58;150;221m rbp\u001b[0m\u001b[0m\u001b[0m\n",
      "\u001b[38;2;58;150;221m└\u001b[0m           \u001b[38;2;19;161;14m0x004006e7\u001b[0m      \u001b[38;2;204;204;204mc3\u001b[0m             \u001b[38;2;197;15;31mret\u001b[0m\u001b[0m\u001b[0m\n"
     ]
    },
    {
     "name": "stderr",
     "output_type": "stream",
     "text": [
      "\u001b[2K\r"
     ]
    },
    {
     "data": {
      "text/plain": [
       "0"
      ]
     },
     "execution_count": 89,
     "metadata": {},
     "output_type": "execute_result"
    }
   ],
   "source": [
    "import os\n",
    "cmd = \"r2 -q -AAA ret2win -c 's main' -c pdf\"\n",
    "os.system(cmd)"
   ]
  },
  {
   "cell_type": "markdown",
   "id": "f978054d-8fc1-4ecd-a3ec-0097043e8dbe",
   "metadata": {},
   "source": [
    "# \n",
    " \n",
    "\n"
   ]
  },
  {
   "cell_type": "markdown",
   "id": "da4766a1-9d75-4e8e-860f-74e92a96f776",
   "metadata": {},
   "source": [
    "<h3>\n",
    "Now were starting to cook with the gas stove, we can already see where the program calls into pwnme toward the bottom!\n",
    "</h3>\n",
    "\n",
    "<h3>\n",
    "Now to check under the hood of the pwnme function...\n",
    "</h3> \n"
   ]
  },
  {
   "cell_type": "markdown",
   "id": "fd0a8534-7ab9-4939-9196-9a2df524d8f6",
   "metadata": {},
   "source": [
    "# \n",
    " \n",
    "\n"
   ]
  },
  {
   "cell_type": "code",
   "execution_count": 88,
   "id": "535a3898-ffc8-4a57-9e9c-2c0f9d6c174a",
   "metadata": {},
   "outputs": [
    {
     "name": "stdout",
     "output_type": "stream",
     "text": [
      "            \u001b[38;2;197;15;31m\u001b[38;2;197;15;31m; CALL XREF from main @ \u001b[38;2;197;15;31m0x4006d2\u001b[38;2;197;15;31m\u001b[0m\n",
      "\u001b[38;2;58;150;221m┌\u001b[0m 110: \u001b[38;2;197;15;31msym.pwnme\u001b[0m ();\n",
      "\u001b[38;2;58;150;221m│\u001b[0m           \u001b[38;2;204;204;204m; \u001b[38;2;204;204;204mvar \u001b[38;2;0;55;218mvoid *buf \u001b[38;2;58;150;221m@ rbp-0x20\u001b[0m\n",
      "\u001b[38;2;58;150;221m│\u001b[0m           \u001b[38;2;19;161;14m0x004006e8\u001b[0m      \u001b[38;2;193;156;0m55\u001b[0m             \u001b[38;2;136;23;152mpush\u001b[38;2;58;150;221m rbp\u001b[0m\u001b[0m\u001b[0m\n",
      "\u001b[38;2;58;150;221m│\u001b[0m           \u001b[38;2;19;161;14m0x004006e9\u001b[0m      \u001b[38;2;193;156;0m48\u001b[38;2;204;204;204m89\u001b[38;2;204;204;204me5\u001b[0m         \u001b[38;2;204;204;204mmov\u001b[38;2;58;150;221m rbp\u001b[0m,\u001b[38;2;58;150;221m\u001b[38;2;58;150;221m rsp\u001b[0m\u001b[0m\u001b[0m\n",
      "\u001b[38;2;58;150;221m│\u001b[0m           \u001b[38;2;19;161;14m0x004006ec\u001b[0m      \u001b[38;2;193;156;0m48\u001b[38;2;204;204;204m83\u001b[38;2;204;204;204mec\u001b[38;2;193;156;0m20\u001b[0m       \u001b[38;2;193;156;0msub\u001b[38;2;58;150;221m rsp\u001b[0m,\u001b[38;2;58;150;221m\u001b[38;2;58;150;221m \u001b[38;2;193;156;0m0x20\u001b[0m\u001b[0m\u001b[0m\n",
      "\u001b[38;2;58;150;221m│\u001b[0m           \u001b[38;2;19;161;14m0x004006f0\u001b[0m      \u001b[38;2;193;156;0m48\u001b[38;2;204;204;204m8d\u001b[38;2;193;156;0m45\u001b[38;2;204;204;204me0\u001b[0m       \u001b[38;2;204;204;204mlea\u001b[38;2;58;150;221m rax\u001b[0m,\u001b[38;2;58;150;221m\u001b[38;2;58;150;221m \u001b[0m[\u001b[38;2;0;55;218mbuf\u001b[0m]\u001b[38;2;58;150;221m\u001b[0m\u001b[0m\u001b[0m\n",
      "\u001b[38;2;58;150;221m│\u001b[0m           \u001b[38;2;19;161;14m0x004006f4\u001b[0m      \u001b[38;2;204;204;204mba\u001b[38;2;193;156;0m20\u001b[38;2;19;161;14m00\u001b[38;2;19;161;14m00\u001b[38;2;19;161;14m00\u001b[0m     \u001b[38;2;204;204;204mmov\u001b[38;2;58;150;221m edx\u001b[0m,\u001b[38;2;58;150;221m\u001b[38;2;58;150;221m \u001b[38;2;193;156;0m0x20\u001b[0m\u001b[0m\u001b[38;2;197;15;31m               ; 32\u001b[0m \u001b[38;2;0;55;218m; size_t n\u001b[0m\n",
      "\u001b[38;2;58;150;221m│\u001b[0m           \u001b[38;2;19;161;14m0x004006f9\u001b[0m      \u001b[38;2;204;204;204mbe\u001b[38;2;19;161;14m00\u001b[38;2;19;161;14m00\u001b[38;2;19;161;14m00\u001b[38;2;19;161;14m00\u001b[0m     \u001b[38;2;204;204;204mmov\u001b[38;2;58;150;221m esi\u001b[0m,\u001b[38;2;58;150;221m\u001b[38;2;58;150;221m \u001b[38;2;58;150;221m0\u001b[0m\u001b[0m\u001b[0m                  \u001b[38;2;0;55;218m; int c\u001b[0m\n",
      "\u001b[38;2;58;150;221m│\u001b[0m           \u001b[38;2;19;161;14m0x004006fe\u001b[0m      \u001b[38;2;193;156;0m48\u001b[38;2;204;204;204m89\u001b[38;2;204;204;204mc7\u001b[0m         \u001b[38;2;204;204;204mmov\u001b[38;2;58;150;221m rdi\u001b[0m,\u001b[38;2;58;150;221m\u001b[38;2;58;150;221m rax\u001b[0m\u001b[0m\u001b[0m                \u001b[38;2;0;55;218m; void *s\u001b[0m\n",
      "\u001b[38;2;58;150;221m│\u001b[0m           \u001b[38;2;19;161;14m0x00400701\u001b[0m      \u001b[38;2;204;204;204me8\u001b[38;2;193;156;0m7a\u001b[38;2;204;204;204mfe\u001b[38;2;197;15;31mff\u001b[38;2;197;15;31mff\u001b[0m     \u001b[1;38;2;22;198;12mcall sym.imp.memset\u001b[0m\u001b[0m\u001b[38;2;197;15;31m         ; void *memset(void *s, int c, size_t n)\u001b[0m\n",
      "\u001b[38;2;58;150;221m│\u001b[0m           \u001b[38;2;19;161;14m0x00400706\u001b[0m      \u001b[38;2;204;204;204mbf\u001b[38;2;193;156;0m38\u001b[38;2;204;204;204m08\u001b[38;2;193;156;0m40\u001b[38;2;19;161;14m00\u001b[0m     \u001b[38;2;204;204;204mmov\u001b[38;2;58;150;221m edi\u001b[0m,\u001b[38;2;58;150;221m\u001b[38;2;58;150;221m \u001b[38;2;58;150;221mstr.For_my_first_trick__I_will_attempt_to_fit_56_bytes_of_user_input_into_32_bytes_of_stack_buffer\u001b[0m\u001b[0m\u001b[38;2;197;15;31m ; 0x400838\u001b[38;2;197;15;31m ; \"For my first trick, I will attempt to fit 56 bytes of user input into 32 bytes of stack buffer!\"\u001b[0m \u001b[38;2;0;55;218m; const char *s\u001b[0m\n",
      "\u001b[38;2;58;150;221m│\u001b[0m           \u001b[38;2;19;161;14m0x0040070b\u001b[0m      \u001b[38;2;204;204;204me8\u001b[38;2;193;156;0m40\u001b[38;2;204;204;204mfe\u001b[38;2;197;15;31mff\u001b[38;2;197;15;31mff\u001b[0m     \u001b[1;38;2;22;198;12mcall sym.imp.puts\u001b[0m\u001b[0m\u001b[38;2;197;15;31m           ; int puts(const char *s)\u001b[0m\n",
      "\u001b[38;2;58;150;221m│\u001b[0m           \u001b[38;2;19;161;14m0x00400710\u001b[0m      \u001b[38;2;204;204;204mbf\u001b[38;2;204;204;204m98\u001b[38;2;204;204;204m08\u001b[38;2;193;156;0m40\u001b[38;2;19;161;14m00\u001b[0m     \u001b[38;2;204;204;204mmov\u001b[38;2;58;150;221m edi\u001b[0m,\u001b[38;2;58;150;221m\u001b[38;2;58;150;221m \u001b[38;2;58;150;221mstr.What_could_possibly_go_wrong\u001b[0m\u001b[0m\u001b[38;2;197;15;31m ; 0x400898\u001b[38;2;197;15;31m ; \"What could possibly go wrong?\"\u001b[0m \u001b[38;2;0;55;218m; const char *s\u001b[0m\n",
      "\u001b[38;2;58;150;221m│\u001b[0m           \u001b[38;2;19;161;14m0x00400715\u001b[0m      \u001b[38;2;204;204;204me8\u001b[38;2;193;156;0m36\u001b[38;2;204;204;204mfe\u001b[38;2;197;15;31mff\u001b[38;2;197;15;31mff\u001b[0m     \u001b[1;38;2;22;198;12mcall sym.imp.puts\u001b[0m\u001b[0m\u001b[38;2;197;15;31m           ; int puts(const char *s)\u001b[0m\n",
      "\u001b[38;2;58;150;221m│\u001b[0m           \u001b[38;2;19;161;14m0x0040071a\u001b[0m      \u001b[38;2;204;204;204mbf\u001b[38;2;204;204;204mb8\u001b[38;2;204;204;204m08\u001b[38;2;193;156;0m40\u001b[38;2;19;161;14m00\u001b[0m     \u001b[38;2;204;204;204mmov\u001b[38;2;58;150;221m edi\u001b[0m,\u001b[38;2;58;150;221m\u001b[38;2;58;150;221m \u001b[38;2;58;150;221mstr.You_there__may_I_have_your_input_please__And_don_t_worry_about_null_bytes__we_re_using_read\u001b[0m\u001b[0m\u001b[38;2;197;15;31m ; 0x4008b8\u001b[38;2;197;15;31m ; \"You there, may I have your input please? And don't worry about null bytes, we're using read()!\\n\"\u001b[0m \u001b[38;2;0;55;218m; const char *s\u001b[0m\n",
      "\u001b[38;2;58;150;221m│\u001b[0m           \u001b[38;2;19;161;14m0x0040071f\u001b[0m      \u001b[38;2;204;204;204me8\u001b[38;2;193;156;0m2c\u001b[38;2;204;204;204mfe\u001b[38;2;197;15;31mff\u001b[38;2;197;15;31mff\u001b[0m     \u001b[1;38;2;22;198;12mcall sym.imp.puts\u001b[0m\u001b[0m\u001b[38;2;197;15;31m           ; int puts(const char *s)\u001b[0m\n",
      "\u001b[38;2;58;150;221m│\u001b[0m           \u001b[38;2;19;161;14m0x00400724\u001b[0m      \u001b[38;2;204;204;204mbf\u001b[38;2;204;204;204m18\u001b[38;2;204;204;204m09\u001b[38;2;193;156;0m40\u001b[38;2;19;161;14m00\u001b[0m     \u001b[38;2;204;204;204mmov\u001b[38;2;58;150;221m edi\u001b[0m,\u001b[38;2;58;150;221m\u001b[38;2;58;150;221m \u001b[38;2;193;156;0m0x400918\u001b[0m\u001b[0m\u001b[0m           \u001b[38;2;0;55;218m; const char *format\u001b[0m\n",
      "\u001b[38;2;58;150;221m│\u001b[0m           \u001b[38;2;19;161;14m0x00400729\u001b[0m      \u001b[38;2;204;204;204mb8\u001b[38;2;19;161;14m00\u001b[38;2;19;161;14m00\u001b[38;2;19;161;14m00\u001b[38;2;19;161;14m00\u001b[0m     \u001b[38;2;204;204;204mmov\u001b[38;2;58;150;221m eax\u001b[0m,\u001b[38;2;58;150;221m\u001b[38;2;58;150;221m \u001b[38;2;58;150;221m0\u001b[0m\u001b[0m\u001b[0m\n",
      "\u001b[38;2;58;150;221m│\u001b[0m           \u001b[38;2;19;161;14m0x0040072e\u001b[0m      \u001b[38;2;204;204;204me8\u001b[38;2;193;156;0m3d\u001b[38;2;204;204;204mfe\u001b[38;2;197;15;31mff\u001b[38;2;197;15;31mff\u001b[0m     \u001b[1;38;2;22;198;12mcall sym.imp.printf\u001b[0m\u001b[0m\u001b[38;2;197;15;31m         ; int printf(const char *format)\u001b[0m\n",
      "\u001b[38;2;58;150;221m│\u001b[0m           \u001b[38;2;19;161;14m0x00400733\u001b[0m      \u001b[38;2;193;156;0m48\u001b[38;2;204;204;204m8d\u001b[38;2;193;156;0m45\u001b[38;2;204;204;204me0\u001b[0m       \u001b[38;2;204;204;204mlea\u001b[38;2;58;150;221m rax\u001b[0m,\u001b[38;2;58;150;221m\u001b[38;2;58;150;221m \u001b[0m[\u001b[38;2;0;55;218mbuf\u001b[0m]\u001b[38;2;58;150;221m\u001b[0m\u001b[0m\u001b[0m\n",
      "\u001b[38;2;58;150;221m│\u001b[0m           \u001b[38;2;19;161;14m0x00400737\u001b[0m      \u001b[38;2;204;204;204mba\u001b[38;2;193;156;0m38\u001b[38;2;19;161;14m00\u001b[38;2;19;161;14m00\u001b[38;2;19;161;14m00\u001b[0m     \u001b[38;2;204;204;204mmov\u001b[38;2;58;150;221m edx\u001b[0m,\u001b[38;2;58;150;221m\u001b[38;2;58;150;221m \u001b[38;2;58;150;221m0x38\u001b[0m\u001b[0m\u001b[38;2;197;15;31m               ; rdx\u001b[0m \u001b[38;2;0;55;218m; size_t nbyte\u001b[0m\n",
      "\u001b[38;2;58;150;221m│\u001b[0m           \u001b[38;2;19;161;14m0x0040073c\u001b[0m      \u001b[38;2;193;156;0m48\u001b[38;2;204;204;204m89\u001b[38;2;204;204;204mc6\u001b[0m         \u001b[38;2;204;204;204mmov\u001b[38;2;58;150;221m rsi\u001b[0m,\u001b[38;2;58;150;221m\u001b[38;2;58;150;221m rax\u001b[0m\u001b[0m\u001b[0m                \u001b[38;2;0;55;218m; void *buf\u001b[0m\n",
      "\u001b[38;2;58;150;221m│\u001b[0m           \u001b[38;2;19;161;14m0x0040073f\u001b[0m      \u001b[38;2;204;204;204mbf\u001b[38;2;19;161;14m00\u001b[38;2;19;161;14m00\u001b[38;2;19;161;14m00\u001b[38;2;19;161;14m00\u001b[0m     \u001b[38;2;204;204;204mmov\u001b[38;2;58;150;221m edi\u001b[0m,\u001b[38;2;58;150;221m\u001b[38;2;58;150;221m \u001b[38;2;58;150;221m0\u001b[0m\u001b[0m\u001b[0m                  \u001b[38;2;0;55;218m; int fildes\u001b[0m\n",
      "\u001b[38;2;58;150;221m│\u001b[0m           \u001b[38;2;19;161;14m0x00400744\u001b[0m      \u001b[38;2;204;204;204me8\u001b[38;2;193;156;0m47\u001b[38;2;204;204;204mfe\u001b[38;2;197;15;31mff\u001b[38;2;197;15;31mff\u001b[0m     \u001b[1;38;2;22;198;12mcall sym.imp.read\u001b[0m\u001b[0m\u001b[38;2;197;15;31m           ; ssize_t read(int fildes, void *buf, size_t nbyte)\u001b[0m\n",
      "\u001b[38;2;58;150;221m│\u001b[0m           \u001b[38;2;19;161;14m0x00400749\u001b[0m      \u001b[38;2;204;204;204mbf\u001b[38;2;204;204;204m1b\u001b[38;2;204;204;204m09\u001b[38;2;193;156;0m40\u001b[38;2;19;161;14m00\u001b[0m     \u001b[38;2;204;204;204mmov\u001b[38;2;58;150;221m edi\u001b[0m,\u001b[38;2;58;150;221m\u001b[38;2;58;150;221m \u001b[38;2;58;150;221mstr.Thank_you\u001b[0m\u001b[0m\u001b[38;2;197;15;31m      ; 0x40091b\u001b[38;2;197;15;31m ; \"Thank you!\"\u001b[0m \u001b[38;2;0;55;218m; const char *s\u001b[0m\n",
      "\u001b[38;2;58;150;221m│\u001b[0m           \u001b[38;2;19;161;14m0x0040074e\u001b[0m      \u001b[38;2;204;204;204me8\u001b[38;2;204;204;204mfd\u001b[38;2;204;204;204mfd\u001b[38;2;197;15;31mff\u001b[38;2;197;15;31mff\u001b[0m     \u001b[1;38;2;22;198;12mcall sym.imp.puts\u001b[0m\u001b[0m\u001b[38;2;197;15;31m           ; int puts(const char *s)\u001b[0m\n",
      "\u001b[38;2;58;150;221m│\u001b[0m           \u001b[38;2;19;161;14m0x00400753\u001b[0m      \u001b[38;2;204;204;204m90\u001b[0m             \u001b[38;2;0;55;218mnop\u001b[0m\u001b[0m\u001b[0m\n",
      "\u001b[38;2;58;150;221m│\u001b[0m           \u001b[38;2;19;161;14m0x00400754\u001b[0m      \u001b[38;2;204;204;204mc9\u001b[0m             \u001b[1;38;2;180;0;158mleave\u001b[0m\u001b[0m\u001b[0m\n",
      "\u001b[38;2;58;150;221m└\u001b[0m           \u001b[38;2;19;161;14m0x00400755\u001b[0m      \u001b[38;2;204;204;204mc3\u001b[0m             \u001b[38;2;197;15;31mret\u001b[0m\u001b[0m\u001b[0m\n"
     ]
    },
    {
     "name": "stderr",
     "output_type": "stream",
     "text": [
      "\u001b[2K\r"
     ]
    },
    {
     "data": {
      "text/plain": [
       "0"
      ]
     },
     "execution_count": 88,
     "metadata": {},
     "output_type": "execute_result"
    }
   ],
   "source": [
    "import os\n",
    "cmd = \"r2 -q -AAA ret2win -c 's sym.pwnme' -c pdf\"\n",
    "os.system(cmd)"
   ]
  },
  {
   "cell_type": "markdown",
   "id": "b2a519f6-196c-40d6-b8de-a746f02bd74f",
   "metadata": {},
   "source": [
    "# \n",
    " \n",
    "\n"
   ]
  },
  {
   "cell_type": "markdown",
   "id": "1a8f5c7c-b01f-4877-b3fd-21e94ceca948",
   "metadata": {},
   "source": [
    "<h3>\n",
    "Right so the vulnerability is definitely here, ROP Emporium does a good job of making RE light and whimsical. Getting into the buffer overflow itself, the first thing that sticks out is  memset (fills a given memory space with bytes). The comment indicates that memset takes a pointer, an int, and a size, using that ordering we can see the instructions directly above correspond to those arguments but are executed in reverse order.\n",
    "</h3>\n",
    "\n",
    "<h3>\n",
    "r2 tells us in the comments that 0x20 is 32 and we can infer from the strings that 0x38 is 56. Lower down we can see that read is called with 0x38 bytes as it's desired size. Key point is we have 56 bytes of junk being written into a buffer that only wants 32 bytes. So this buffer overflow gives a plentiful 18 bytes to chain an exploit.\n",
    "</h3> \n",
    "\n",
    "<h3>\n",
    "Now for the last function of interest, ret2win:\n",
    "</h3> \n"
   ]
  },
  {
   "cell_type": "markdown",
   "id": "367e7f2d-994e-4538-8747-a464fb1ca749",
   "metadata": {},
   "source": [
    "# \n",
    " \n",
    "\n"
   ]
  },
  {
   "cell_type": "code",
   "execution_count": 87,
   "id": "03401b42-ea69-47da-a2ac-6e8e6f0def4e",
   "metadata": {},
   "outputs": [
    {
     "name": "stdout",
     "output_type": "stream",
     "text": [
      "\u001b[38;2;58;150;221m┌\u001b[0m 27: \u001b[38;2;197;15;31msym.ret2win\u001b[0m ();\n",
      "\u001b[38;2;58;150;221m│\u001b[0m           \u001b[38;2;19;161;14m0x00400756\u001b[0m      \u001b[38;2;193;156;0m55\u001b[0m             \u001b[38;2;136;23;152mpush\u001b[38;2;58;150;221m rbp\u001b[0m\u001b[0m\u001b[0m\n",
      "\u001b[38;2;58;150;221m│\u001b[0m           \u001b[38;2;19;161;14m0x00400757\u001b[0m      \u001b[38;2;193;156;0m48\u001b[38;2;204;204;204m89\u001b[38;2;204;204;204me5\u001b[0m         \u001b[38;2;204;204;204mmov\u001b[38;2;58;150;221m rbp\u001b[0m,\u001b[38;2;58;150;221m\u001b[38;2;58;150;221m rsp\u001b[0m\u001b[0m\u001b[0m\n",
      "\u001b[38;2;58;150;221m│\u001b[0m           \u001b[38;2;19;161;14m0x0040075a\u001b[0m      \u001b[38;2;204;204;204mbf\u001b[38;2;193;156;0m26\u001b[38;2;204;204;204m09\u001b[38;2;193;156;0m40\u001b[38;2;19;161;14m00\u001b[0m     \u001b[38;2;204;204;204mmov\u001b[38;2;58;150;221m edi\u001b[0m,\u001b[38;2;58;150;221m\u001b[38;2;58;150;221m \u001b[38;2;58;150;221mstr.Well_done__Here_s_your_flag:\u001b[0m\u001b[0m\u001b[38;2;197;15;31m ; 0x400926\u001b[38;2;197;15;31m ; \"Well done! Here's your flag:\"\u001b[0m \u001b[38;2;0;55;218m; const char *s\u001b[0m\n",
      "\u001b[38;2;58;150;221m│\u001b[0m           \u001b[38;2;19;161;14m0x0040075f\u001b[0m      \u001b[38;2;204;204;204me8\u001b[38;2;204;204;204mec\u001b[38;2;204;204;204mfd\u001b[38;2;197;15;31mff\u001b[38;2;197;15;31mff\u001b[0m     \u001b[1;38;2;22;198;12mcall sym.imp.puts\u001b[0m\u001b[0m\u001b[38;2;197;15;31m           ; int puts(const char *s)\u001b[0m\n",
      "\u001b[38;2;58;150;221m│\u001b[0m           \u001b[38;2;19;161;14m0x00400764\u001b[0m      \u001b[38;2;204;204;204mbf\u001b[38;2;193;156;0m43\u001b[38;2;204;204;204m09\u001b[38;2;193;156;0m40\u001b[38;2;19;161;14m00\u001b[0m     \u001b[38;2;204;204;204mmov\u001b[38;2;58;150;221m edi\u001b[0m,\u001b[38;2;58;150;221m\u001b[38;2;58;150;221m \u001b[38;2;58;150;221mstr.bin_cat_flag.txt\u001b[0m\u001b[0m\u001b[38;2;197;15;31m ; 0x400943\u001b[38;2;197;15;31m ; \"/bin/cat flag.txt\"\u001b[0m \u001b[38;2;0;55;218m; const char *string\u001b[0m\n",
      "\u001b[38;2;58;150;221m│\u001b[0m           \u001b[38;2;19;161;14m0x00400769\u001b[0m      \u001b[38;2;204;204;204me8\u001b[38;2;204;204;204mf2\u001b[38;2;204;204;204mfd\u001b[38;2;197;15;31mff\u001b[38;2;197;15;31mff\u001b[0m     \u001b[1;38;2;22;198;12mcall sym.imp.system\u001b[0m\u001b[0m\u001b[38;2;197;15;31m         ; int system(const char *string)\u001b[0m\n",
      "\u001b[38;2;58;150;221m│\u001b[0m           \u001b[38;2;19;161;14m0x0040076e\u001b[0m      \u001b[38;2;204;204;204m90\u001b[0m             \u001b[38;2;0;55;218mnop\u001b[0m\u001b[0m\u001b[0m\n",
      "\u001b[38;2;58;150;221m│\u001b[0m           \u001b[38;2;19;161;14m0x0040076f\u001b[0m      \u001b[38;2;193;156;0m5d\u001b[0m             \u001b[1;38;2;180;0;158mpop\u001b[38;2;58;150;221m rbp\u001b[0m\u001b[0m\u001b[0m\n",
      "\u001b[38;2;58;150;221m└\u001b[0m           \u001b[38;2;19;161;14m0x00400770\u001b[0m      \u001b[38;2;204;204;204mc3\u001b[0m             \u001b[38;2;197;15;31mret\u001b[0m\u001b[0m\u001b[0m\n"
     ]
    },
    {
     "name": "stderr",
     "output_type": "stream",
     "text": [
      "\u001b[2K\r"
     ]
    },
    {
     "data": {
      "text/plain": [
       "0"
      ]
     },
     "execution_count": 87,
     "metadata": {},
     "output_type": "execute_result"
    }
   ],
   "source": [
    "import os\n",
    "cmd = \"r2 -q -AAA ret2win -c 's sym.ret2win' -c pdf\"\n",
    "os.system(cmd)"
   ]
  },
  {
   "cell_type": "markdown",
   "id": "c92d8569-76f6-4ee9-90d0-a1caeeec0642",
   "metadata": {
    "tags": []
   },
   "source": [
    "# \n",
    " \n",
    "\n"
   ]
  },
  {
   "cell_type": "markdown",
   "id": "38e3d690-7c9a-4fcd-9a08-448790fc0a6f",
   "metadata": {},
   "source": [
    "<h3>\n",
    "Check out that call to system, looks like all we have to do is return in order to beat this level!\n",
    "</h3>\n",
    "\n",
    "<h3>\n",
    "Now for the exploit... Just need to make a suitable python script that abuses the buffer overflow to overwrite the EIP so that we can jump on over to ret2win avoiding the programs intended crash.\n",
    "</h3>"
   ]
  },
  {
   "cell_type": "markdown",
   "id": "e02d5886-4613-4afc-9827-869066033327",
   "metadata": {},
   "source": [
    "# \n",
    " \n",
    "\n"
   ]
  },
  {
   "cell_type": "code",
   "execution_count": null,
   "id": "837e580e-0c54-4e8b-a6f6-91733312bc29",
   "metadata": {},
   "outputs": [],
   "source": []
  }
 ],
 "metadata": {
  "kernelspec": {
   "display_name": "Python 3 (ipykernel)",
   "language": "python",
   "name": "python3"
  },
  "language_info": {
   "codemirror_mode": {
    "name": "ipython",
    "version": 3
   },
   "file_extension": ".py",
   "mimetype": "text/x-python",
   "name": "python",
   "nbconvert_exporter": "python",
   "pygments_lexer": "ipython3",
   "version": "3.8.5"
  }
 },
 "nbformat": 4,
 "nbformat_minor": 5
}
