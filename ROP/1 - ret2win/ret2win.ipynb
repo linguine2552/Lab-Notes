{
 "cells": [
  {
   "cell_type": "markdown",
   "id": "b8528f23-151e-48a2-869f-0b7852727afa",
   "metadata": {
    "tags": []
   },
   "source": [
    "# Challenge 1 - ret2win\n",
    "hosted at the ROP Emporium\n",
    "\n"
   ]
  },
  {
   "cell_type": "markdown",
   "id": "a9b6c1ae-b228-4c33-b2c4-65090637a51e",
   "metadata": {
    "jp-MarkdownHeadingCollapsed": true,
    "tags": []
   },
   "source": [
    "## ROP Emporium\n",
    "</h4>This is a great place to learn about Return Oriented Programming, one of the sexier buffer overflow techniques used today. This is a CTF site where you attempt to exploit a binary using ROP in order to read out flag.txt </h4>\n",
    "\n",
    "<a href=\"https://ropemporium.com/\" target=\"_blank\"><img src=\"https://1.bp.blogspot.com/-5Py6qw3W7mk/XxubymSzn6I/AAAAAAAAAok/5NjfpufdrJ0nHYcmvS8B9QHJMPw-DaS4ACLcBGAsYHQ/s1372/Screen%2BShot%2B2020-07-24%2Bat%2B10.40.44%2BPM.png\" \n",
    "alt=\"FOOL, THE IMAGE IS GONE\" width=\"240\" height=\"180\" border=\"10\" /></a>\n",
    "\n",
    "<h4>ROP Emporium offers their binaries in 4 architectural flavors, to start out I'll be using x86_64 (very basic I know) but I plan to run through the gauntlet again at least one more time to learn about ARM Pointer Auth Codes.</h4>\n",
    "\n"
   ]
  },
  {
   "cell_type": "markdown",
   "id": "95513de0-a391-4ea3-b15d-c30b1b696ff0",
   "metadata": {
    "jp-MarkdownHeadingCollapsed": true,
    "tags": []
   },
   "source": [
    "#\n",
    "# Objective: Locate a method that you want to call within the binary. Call it by overwriting a saved return address on the stack.\n",
    "\n"
   ]
  },
  {
   "cell_type": "markdown",
   "id": "1ba07029-9917-4bb3-9420-163bf84f09c1",
   "metadata": {},
   "source": [
    "# \n",
    "<h3>Starting off with a little file inspection:</h3>\n",
    "\n"
   ]
  },
  {
   "cell_type": "code",
   "execution_count": 38,
   "id": "067170cf-2d86-4efc-a381-cf349a1fdd0a",
   "metadata": {},
   "outputs": [
    {
     "name": "stdout",
     "output_type": "stream",
     "text": [
      "/home/Lab-Notes/ROP/1 - ret2win/ret2win: ELF 64-bit LSB executable, x86-64, version 1 (SYSV), dynamically linked, interpreter /lib64/ld-linux-x86-64.so.2, for GNU/Linux 3.2.0, BuildID[sha1]=19abc0b3bb228157af55b8e16af7316d54ab0597, not stripped\n"
     ]
    },
    {
     "data": {
      "text/plain": [
       "0"
      ]
     },
     "execution_count": 38,
     "metadata": {},
     "output_type": "execute_result"
    }
   ],
   "source": [
    "import os\n",
    "cmd = \"file /home/Lab-Notes/ROP/'1 - ret2win'/ret2win\"\n",
    "os.system(cmd)"
   ]
  },
  {
   "cell_type": "markdown",
   "id": "118abf8d-ec9b-4adb-bee8-e641c06a2526",
   "metadata": {},
   "source": [
    "<h3>\n",
    "So were dealing with a 64bit ELF (Executable and Linkable Format) in little endian (LSB stands for Least Significant Byte) we can also check this manually by looking at the sixth byte in the ELF header using a debugger.\n",
    "</h3>\n",
    "<h3>\n",
    "The file is not stripped meaning the author of the exe compiled without stripping their function names, so the next step would be to check all the named functions in the binary using radare2 in hopes of finding some leads.\n",
    "</h3>\n"
   ]
  },
  {
   "cell_type": "markdown",
   "id": "52e6c8c8-c7af-49b9-96f5-5b8560c7412d",
   "metadata": {},
   "source": [
    "# \n",
    " \n",
    "\n"
   ]
  },
  {
   "cell_type": "code",
   "execution_count": 53,
   "id": "dacaf4b6-e120-4ce7-9b56-dd179e0935d6",
   "metadata": {},
   "outputs": [
    {
     "name": "stdout",
     "output_type": "stream",
     "text": [
      "0x004005b0    1 42           entry0\n",
      "0x004005f0    4 42   -> 37   sym.deregister_tm_clones\n",
      "0x00400620    4 58   -> 55   sym.register_tm_clones\n",
      "0x00400660    3 34   -> 29   entry.fini0\n",
      "0x00400690    1 7            entry.init0\n",
      "0x004006e8    1 110          sym.pwnme\n",
      "0x00400580    1 6            sym.imp.memset\n",
      "0x00400550    1 6            sym.imp.puts\n",
      "0x00400570    1 6            sym.imp.printf\n",
      "0x00400590    1 6            sym.imp.read\n",
      "0x00400756    1 27           sym.ret2win\n",
      "0x00400560    1 6            sym.imp.system\n",
      "0x004007f0    1 2            sym.__libc_csu_fini\n",
      "0x004007f4    1 9            sym._fini\n",
      "0x00400780    4 101          sym.__libc_csu_init\n",
      "0x004005e0    1 2            sym._dl_relocate_static_pie\n",
      "0x00400697    1 81           main\n",
      "0x004005a0    1 6            sym.imp.setvbuf\n",
      "0x00400528    3 23           sym._init\n",
      " -- Jingle sploits, jingle sploits, ropchain all the way.\n",
      "\u001b[38;2;193;156;0m[0x004005b0]>\u001b[0m [0m \u0000"
     ]
    },
    {
     "name": "stderr",
     "output_type": "stream",
     "text": [
      "\u001b[32m[x]\u001b[0m Analyze all flags starting with sym. and entry0 (aa)\n",
      "\u001b[32m[x]\u001b[0m Analyze function calls (aac)\n",
      "\u001b[32m[x]\u001b[0m Analyze len bytes of instructions for references (aar)\n",
      "\u001b[32m[x]\u001b[0m Check for objc references\n",
      "\u001b[32m[x]\u001b[0m Check for vtables\n",
      "\u001b[32m[x]\u001b[0m Type matching analysis for all functions (aaft)\n",
      "\u001b[32m[x]\u001b[0m Propagate noreturn information\n",
      "\u001b[32m[x]\u001b[0m Use -AA or aaaa to perform additional experimental analysis.\n",
      "\u001b[32m[x]\u001b[0m Finding function preludes\n",
      "\u001b[32m[x]\u001b[0m Enable constraint types analysis for variables\n",
      "\u001b[?1001r\u001b[?1000l"
     ]
    },
    {
     "data": {
      "text/plain": [
       "0"
      ]
     },
     "execution_count": 53,
     "metadata": {},
     "output_type": "execute_result"
    }
   ],
   "source": [
    "import os\n",
    "cmd = \"r2 -AAA ret2win -c afl\"\n",
    "os.system(cmd)"
   ]
  },
  {
   "cell_type": "markdown",
   "id": "f8ca6d97-dbea-46fb-83de-b611f864ae9e",
   "metadata": {},
   "source": [
    "<h3>\n",
    "I'm not going to explain the command arguments, everything is pretty cut and dry (plus the man page exists). What it spits out is a memory address of our location (at entry0 in r2 which corresponds to the _start function in C based programs) within the binary and a list of functions for us to analyze.\n",
    "</h3>\n",
    "\n",
    "<h3>\n",
    "We can see that there are indeed a few interesting functions: <strong>pwnme, ret2win,</strong> and <strong> main</strong></h3> "
   ]
  },
  {
   "cell_type": "code",
   "execution_count": null,
   "id": "01fd3458-8083-4944-bbe8-9feb6aba8d02",
   "metadata": {},
   "outputs": [],
   "source": []
  }
 ],
 "metadata": {
  "kernelspec": {
   "display_name": "Python 3 (ipykernel)",
   "language": "python",
   "name": "python3"
  },
  "language_info": {
   "codemirror_mode": {
    "name": "ipython",
    "version": 3
   },
   "file_extension": ".py",
   "mimetype": "text/x-python",
   "name": "python",
   "nbconvert_exporter": "python",
   "pygments_lexer": "ipython3",
   "version": "3.8.5"
  }
 },
 "nbformat": 4,
 "nbformat_minor": 5
}
