{
 "cells": [
  {
   "cell_type": "markdown",
   "id": "b8528f23-151e-48a2-869f-0b7852727afa",
   "metadata": {},
   "source": [
    "# Challenge 1 - ret2win\n",
    "by ROP Emporium\n",
    "\n"
   ]
  },
  {
   "cell_type": "markdown",
   "id": "a9b6c1ae-b228-4c33-b2c4-65090637a51e",
   "metadata": {},
   "source": [
    "## ROP Emporium\n",
    "This is a great place to learn about Return Oriented Programming, one of the sexier buffer overflow techniques used today. This is a CTF site where you attempt to exploit a binary using ROP in order to read out flag.txt\n",
    "\n",
    "<a href=\"https://ropemporium.com/\" target=\"_blank\"><img src=\"https://www.google.com/url?sa=i&url=https%3A%2F%2Fwww.reddit.com%2Fr%2FExploitDev%2Fcomments%2Fhxom8x%2Frop_emporium_pwning_mips%2F&psig=AOvVaw30vCKW9fAZhTe9NLT8Ta68&ust=1639504051768000&source=images&cd=vfe&ved=0CAsQjRxqFwoTCNCTrt6q4fQCFQAAAAAdAAAAABAD\" \n",
    "alt=\"FOOL, THE IMAGE IS GONE\" width=\"240\" height=\"180\" border=\"10\" /></a>\n",
    "\n",
    "ROP Emporium offers their binaries in 4 architectural flavors, to start out I'll be using x86_64 (very basic I know) but I plan to run through the gauntlet again at least one more time to learn about ARM Pointer Auth Codes."
   ]
  }
 ],
 "metadata": {
  "kernelspec": {
   "display_name": "Python 3 (ipykernel)",
   "language": "python",
   "name": "python3"
  },
  "language_info": {
   "codemirror_mode": {
    "name": "ipython",
    "version": 3
   },
   "file_extension": ".py",
   "mimetype": "text/x-python",
   "name": "python",
   "nbconvert_exporter": "python",
   "pygments_lexer": "ipython3",
   "version": "3.8.5"
  }
 },
 "nbformat": 4,
 "nbformat_minor": 5
}
