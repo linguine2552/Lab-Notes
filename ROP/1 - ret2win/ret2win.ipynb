{
 "cells": [
  {
   "cell_type": "markdown",
   "id": "b8528f23-151e-48a2-869f-0b7852727afa",
   "metadata": {},
   "source": [
    "# Challenge 1 - ret2win\n",
    "by ropemporium\n",
    "\n",
    "Objective: Locate a method that you want to call within the binary.\n",
    "Call it by overwriting a saved return address on the stack.\n",
    "\n",
    "There are 4 binaries offered on the site to dig into but I chose the most generic, the x86_64 version.\n",
    "\n"
   ]
  }
 ],
 "metadata": {
  "kernelspec": {
   "display_name": "Python 3 (ipykernel)",
   "language": "python",
   "name": "python3"
  },
  "language_info": {
   "codemirror_mode": {
    "name": "ipython",
    "version": 3
   },
   "file_extension": ".py",
   "mimetype": "text/x-python",
   "name": "python",
   "nbconvert_exporter": "python",
   "pygments_lexer": "ipython3",
   "version": "3.8.5"
  }
 },
 "nbformat": 4,
 "nbformat_minor": 5
}
