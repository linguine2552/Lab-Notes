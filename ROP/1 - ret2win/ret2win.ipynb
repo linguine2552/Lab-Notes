{
 "cells": [
  {
   "cell_type": "code",
   "execution_count": 1,
   "id": "2ef81c7a-d450-4227-8c9f-d98fb86bfeb8",
   "metadata": {},
   "outputs": [
    {
     "ename": "SyntaxError",
     "evalue": "invalid syntax (517658613.py, line 2)",
     "output_type": "error",
     "traceback": [
      "\u001b[0;36m  File \u001b[0;32m\"/tmp/ipykernel_7484/517658613.py\"\u001b[0;36m, line \u001b[0;32m2\u001b[0m\n\u001b[0;31m    by ropemporium\u001b[0m\n\u001b[0m       ^\u001b[0m\n\u001b[0;31mSyntaxError\u001b[0m\u001b[0;31m:\u001b[0m invalid syntax\n"
     ]
    }
   ],
   "source": [
    "# Challenge 1 - ret2win\n",
    "by ropemporium\n",
    "\n",
    "Objective: Locate a method that you want to call within the binary.\n",
    "Call it by overwriting a saved return address on the stack.\n",
    "\n",
    "There are 4 binaries offered on the site to dig into but I chose the most generic, the x86_64 version."
   ]
  },
  {
   "cell_type": "code",
   "execution_count": null,
   "id": "462f8ab4-f192-468d-af23-2e3839df25f9",
   "metadata": {},
   "outputs": [],
   "source": []
  }
 ],
 "metadata": {
  "kernelspec": {
   "display_name": "Python 3 (ipykernel)",
   "language": "python",
   "name": "python3"
  },
  "language_info": {
   "codemirror_mode": {
    "name": "ipython",
    "version": 3
   },
   "file_extension": ".py",
   "mimetype": "text/x-python",
   "name": "python",
   "nbconvert_exporter": "python",
   "pygments_lexer": "ipython3",
   "version": "3.8.5"
  }
 },
 "nbformat": 4,
 "nbformat_minor": 5
}
