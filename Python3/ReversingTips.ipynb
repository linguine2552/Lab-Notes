{
 "cells": [
  {
   "cell_type": "markdown",
   "id": "1b7af08d-c80c-4490-bc48-9b7ffc8a5c21",
   "metadata": {},
   "source": [
    "# Reversing Tips\n",
    "test\n",
    "\n",
    "Five tips to level up your reverse engineering with Python3.\n",
    "\n",
    "## Tip 1 - Use Juptyper Notebooks and A Git Repo\n",
    "\n",
    "Use OALab's .gitignore file to filter out the juptyper junk files.\n",
    "\n",
    "## Tip 2 - Remember Byte Strings Are Not Strings"
   ]
  },
  {
   "cell_type": "code",
   "execution_count": 1,
   "id": "6cd9cb13-4d49-4dae-965d-f6d953bd9a35",
   "metadata": {},
   "outputs": [
    {
     "name": "stdout",
     "output_type": "stream",
     "text": [
      "b'test'\n",
      "test\n"
     ]
    }
   ],
   "source": [
    "import binascii\n",
    "\n",
    "string_example = \"test\"\n",
    "byte_array_example = b\"test\"\n",
    "\n",
    "# Convert string into bytes\n",
    "print(string_example.encode('utf-8'))\n",
    "\n",
    "# Convert byte array into string\n",
    "print(byte_array_example.decode('utf-8'))"
   ]
  },
  {
   "cell_type": "markdown",
   "id": "7f1fcd75-2dc3-424c-8b1c-0333e08dcfbd",
   "metadata": {},
   "source": [
    "## Example for Tips 3-5"
   ]
  },
  {
   "cell_type": "code",
   "execution_count": 9,
   "id": "474c8510-3b4f-4e1e-a582-3e62863fa8af",
   "metadata": {},
   "outputs": [],
   "source": [
    "example_data = b'\\x02\\x00\\x00\\x00\\x00\\x04\\x00\\x00\\x00test\\x01\\x04\\x00\\x00\\x00t\\x00e\\x00s\\x00t\\x00'"
   ]
  },
  {
   "cell_type": "markdown",
   "id": "3f8e637c-3391-4e4b-bee0-db4b98ea61cf",
   "metadata": {},
   "source": [
    "### Example Data Structure\n",
    "\n",
    "```\n",
    "struct strings{\n",
    "DWORD number_of_strings;\n",
    "string* string;\n",
    "}\n",
    "\n",
    "struct string{\n",
    "BOOL is_wide_string;\n",
    "DWORD string_length;\n",
    "chr* string;\n",
    "}\n",
    "```\n",
    "\n"
   ]
  },
  {
   "cell_type": "markdown",
   "id": "dd4f685f-68f9-4ff8-8984-4d9f1a24845c",
   "metadata": {},
   "source": [
    "## Tip 3 - Hex Encoding Binary Data"
   ]
  },
  {
   "cell_type": "code",
   "execution_count": 5,
   "id": "5a6374d2-6efa-40ed-bb7f-d0307577803b",
   "metadata": {},
   "outputs": [
    {
     "name": "stdout",
     "output_type": "stream",
     "text": [
      "This is hex encoded data: b'0200000000040000007465737401040000007400650073007400'\n"
     ]
    }
   ],
   "source": [
    "def unhex(hex_string):\n",
    "    import binascii\n",
    "    if type(hex_string) == str:\n",
    "        return binascii.unhexlify(hex_string.encode('utf-8'))\n",
    "    else:\n",
    "        return binascii.unhexlify(hex_string)\n",
    "\n",
    "    \n",
    "def tohex(data):\n",
    "    import binascii\n",
    "    if type(data) == str:\n",
    "        return binascii.hexlify(data.encode('utf-8'))\n",
    "    else:\n",
    "        return binascii.hexlify(data)\n",
    "\n",
    "print(\"This is hex encoded data: %r\" % tohex(example_data))"
   ]
  },
  {
   "cell_type": "markdown",
   "id": "c751e14b-9e1d-4a57-a512-525aa6889409",
   "metadata": {},
   "source": [
    "## Tip 4 - Use Struct To Convert Between Data and Types\n",
    "\n",
    "https://docs.python.org/3/library/struct.html\n"
   ]
  },
  {
   "cell_type": "code",
   "execution_count": 11,
   "id": "f2d956b1-c76d-422d-baf2-858cf7fa64bf",
   "metadata": {},
   "outputs": [
    {
     "name": "stdout",
     "output_type": "stream",
     "text": [
      "Number of strings: 2\n"
     ]
    }
   ],
   "source": [
    "import struct\n",
    "number_of_strings = struct.unpack('<I',example_data[:4])[0]\n",
    "print(\"Number of strings: %d\" % number_of_strings)"
   ]
  },
  {
   "cell_type": "markdown",
   "id": "94d77352-cc00-401f-94d4-22fdeb9e528c",
   "metadata": {},
   "source": [
    "## Tip 5 - Use Custom Struct Class To Parse Binary Data"
   ]
  },
  {
   "cell_type": "code",
   "execution_count": 24,
   "id": "03bb5aa0-4b55-47dd-bfef-ab53754348ad",
   "metadata": {},
   "outputs": [
    {
     "name": "stdout",
     "output_type": "stream",
     "text": [
      "Example string data: b'\\x00\\x04\\x00\\x00\\x00test'\n",
      "Example is wide: False\n",
      "Example string length: 4\n",
      "Example string: test\n"
     ]
    }
   ],
   "source": [
    "import struct \n",
    "\n",
    "example_string = b'\\x00\\x04\\x00\\x00\\x00test'\n",
    "\n",
    "class EXAMPLE_STRING:\n",
    "    def __init__(self):\n",
    "        self.is_wide_string = False\n",
    "        self.string_length = 0\n",
    "        self.string = b''\n",
    "    def from_buffer_copy(self, data):\n",
    "        ptr = 0\n",
    "        self.is_wide_string = struct.unpack('?', data[ptr:ptr+1])[0]\n",
    "        ptr += 1\n",
    "        self.string_length = struct.unpack('<I', data[ptr:ptr+4])[0]\n",
    "        ptr += 4\n",
    "        if self.is_wide_string:\n",
    "            self.string = data[ptr:ptr+(self.string_length*2)].decode('utf-16le')\n",
    "            ptr += self.string_length*2\n",
    "        else:\n",
    "            self.string = data[ptr:ptr+self.string_length].decode('utf-8')\n",
    "            ptr += self.string_length\n",
    "    def pack(self):\n",
    "        data = b''\n",
    "        data += struct.pack('?', self.is_wide_string)\n",
    "        data += struct.pack('<I', self.string_length)\n",
    "        if self.is_wide_string:\n",
    "            data += self.string.encode('utf-16le')\n",
    "        else:\n",
    "            data += self.string.encode('utf-8')\n",
    "        return data\n",
    "\n",
    "print(\"Example string data: %r\" % example_string)\n",
    "es = EXAMPLE_STRING()\n",
    "es.from_buffer_copy(example_string)\n",
    "print(\"Example is wide: %s\" % es.is_wide_string)\n",
    "print(\"Example string length: %d\" % es.string_length)\n",
    "print(\"Example string: %s\" % es.string)\n",
    "        "
   ]
  },
  {
   "cell_type": "code",
   "execution_count": 25,
   "id": "33ec1ebb-e759-42e3-a2f7-f2c0c21bd6bc",
   "metadata": {},
   "outputs": [
    {
     "name": "stdout",
     "output_type": "stream",
     "text": [
      "Example string data converted to wide: b'\\x01\\x04\\x00\\x00\\x00t\\x00e\\x00s\\x00t\\x00'\n"
     ]
    }
   ],
   "source": [
    "es.is_wide_string = True\n",
    "print(\"Example string data converted to wide: %r\" % es.pack())"
   ]
  },
  {
   "cell_type": "code",
   "execution_count": 30,
   "id": "5e18a129-3bd9-4027-9383-5d71cb9da66d",
   "metadata": {},
   "outputs": [
    {
     "name": "stdout",
     "output_type": "stream",
     "text": [
      "Number of strings: 2\n",
      "First string is wide: False\n",
      "First string: test\n",
      "Second string is wide: True\n",
      "Second string: test\n"
     ]
    }
   ],
   "source": [
    "\n",
    "class EXAMPLE_STRINGS:\n",
    "    def __init__(self):\n",
    "        self.length = 0\n",
    "        self.strings = []\n",
    "    def from_buffer_copy(self, data):\n",
    "        ptr = 0\n",
    "        self.length = struct.unpack('<I', data[ptr:ptr+4])[0]\n",
    "        ptr += 4\n",
    "        for i in range(self.length):\n",
    "            tmp_string = EXAMPLE_STRING()\n",
    "            tmp_string.from_buffer_copy(data[ptr:])\n",
    "            ptr += len(tmp_string.pack())\n",
    "            self.strings.append(tmp_string)\n",
    "    def pack(self):\n",
    "        data = b''\n",
    "        data += struct.pack('<I', self.length)\n",
    "        for s in self.strings:\n",
    "            data += s.pack()\n",
    "        return data\n",
    "    \n",
    "es = EXAMPLE_STRINGS()\n",
    "es.from_buffer_copy(example_data)\n",
    "print(\"Number of strings: %d\" % es.length)\n",
    "print(\"First string is wide: %s\" % es.strings[0].is_wide_string)\n",
    "print(\"First string: %s\" % es.strings[0].string)\n",
    "print(\"Second string is wide: %s\" % es.strings[1].is_wide_string)\n",
    "print(\"Second string: %s\" % es.strings[1].string)"
   ]
  },
  {
   "cell_type": "code",
   "execution_count": null,
   "id": "e7337037-9b37-427a-821d-c21d72b2ea25",
   "metadata": {},
   "outputs": [],
   "source": []
  }
 ],
 "metadata": {
  "kernelspec": {
   "display_name": "Python 3 (ipykernel)",
   "language": "python",
   "name": "python3"
  },
  "language_info": {
   "codemirror_mode": {
    "name": "ipython",
    "version": 3
   },
   "file_extension": ".py",
   "mimetype": "text/x-python",
   "name": "python",
   "nbconvert_exporter": "python",
   "pygments_lexer": "ipython3",
   "version": "3.8.5"
  }
 },
 "nbformat": 4,
 "nbformat_minor": 5
}
